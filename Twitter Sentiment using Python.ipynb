{
 "cells": [
  {
   "cell_type": "markdown",
   "metadata": {},
   "source": [
    "# Twitter Sentiment Analysis"
   ]
  },
  {
   "cell_type": "markdown",
   "metadata": {},
   "source": [
    "Loading tweet data taken directly from [Twitter's API](https://developer.twitter.com/en/docs/tweets/timelines/api-reference/get-statuses-user_timeline). We first work with sample data extracted from Twitter API and store it in variable SAMPLE_TWEETS"
   ]
  },
  {
   "cell_type": "code",
   "execution_count": 2,
   "metadata": {},
   "outputs": [],
   "source": [
    "# import sample data from local folder\n",
    "from data.sample_data import SAMPLE_TWEETS as st"
   ]
  },
  {
   "cell_type": "code",
   "execution_count": 55,
   "metadata": {},
   "outputs": [
    {
     "data": {
      "text/plain": [
       "[{'created_at': 'Mon Oct 10 18:39:51 +0000 2016',\n",
       "  'entities': {'hashtags': [{'indices': [20, 41],\n",
       "     'text': 'IndigenousPeoplesDay'}]},\n",
       "  'retweet_count': 9,\n",
       "  'text': 'RT @UWAPress: Happy #IndigenousPeoplesDay https://t.co/YmU9e9lj7v',\n",
       "  'user': {'screen_name': 'UW_iSchool'}},\n",
       " {'created_at': 'Mon Oct 10 18:00:00 +0000 2016',\n",
       "  'entities': {'hashtags': [{'indices': [16, 29], 'text': 'IdealistFair'}]},\n",
       "  'retweet_count': 0,\n",
       "  'text': \"We'll be at the #IdealistFair this evening on the Seattle U. campus. Come and learn about our graduate programs: https://t.co/et1HrQshmr\",\n",
       "  'user': {'screen_name': 'UW_iSchool'}},\n",
       " {'created_at': 'Mon Oct 10 15:10:36 +0000 2016',\n",
       "  'entities': {'hashtags': []},\n",
       "  'retweet_count': 1,\n",
       "  'text': 'RT @iYouthUW: iYouth Tips for 1st\\xa0Years https://t.co/K4SCIEhJ8k https://t.co/p4lbC6Jb5o',\n",
       "  'user': {'screen_name': 'UW_iSchool'}}]"
      ]
     },
     "execution_count": 55,
     "metadata": {},
     "output_type": "execute_result"
    }
   ],
   "source": [
    "st[:3]"
   ]
  },
  {
   "cell_type": "code",
   "execution_count": 4,
   "metadata": {},
   "outputs": [],
   "source": [
    "from data.sentiments_nrc import SENTIMENTS as senti\n",
    "from data.sentiments_nrc import EMOTIONS as emo"
   ]
  },
  {
   "cell_type": "code",
   "execution_count": 81,
   "metadata": {},
   "outputs": [],
   "source": [
    "import re\n",
    "text = \"Amazingly, I prefer a #rainy day to #sunshine.\""
   ]
  },
  {
   "cell_type": "code",
   "execution_count": 78,
   "metadata": {},
   "outputs": [],
   "source": [
    "def lower(str):\n",
    "    \"\"\"Function to return lowercase version of input text\"\"\"\n",
    "    return str.lower()"
   ]
  },
  {
   "cell_type": "code",
   "execution_count": 79,
   "metadata": {},
   "outputs": [],
   "source": [
    "def remover(str):\n",
    "    \"\"\"This funtion returns False or True based on whether input word's length is atleast 2 characters\n",
    "    Input: Word(String)\n",
    "    Output: True or False\"\"\"\n",
    "    if len(str.strip()) < 2:\n",
    "        return False\n",
    "    else:\n",
    "        return True"
   ]
  },
  {
   "cell_type": "code",
   "execution_count": 80,
   "metadata": {},
   "outputs": [
    {
     "data": {
      "text/plain": [
       "['amazingly', 'prefer', 'rainy', 'day', 'to', 'sunshine']"
      ]
     },
     "execution_count": 80,
     "metadata": {},
     "output_type": "execute_result"
    }
   ],
   "source": [
    "def word_extract(str):\n",
    "    \"\"\"This function extracts words from a input string. It also filters and transform the words based on certain criteria.\n",
    "    Input: String\n",
    "    Output: List of words\"\"\"\n",
    "    text = list(filter(remover,list(map(lower,re.split(\"\\W+\",str)))))\n",
    "    return text\n",
    "\n",
    "word_extract(text)"
   ]
  },
  {
   "cell_type": "code",
   "execution_count": 61,
   "metadata": {},
   "outputs": [],
   "source": [
    "def in_emotion(word_list,emotion):\n",
    "    \"\"\"This function takes in a list of words and an emotion parameter and gives the words associated with that emotion\n",
    "    Input: (1).List of Words (2).Emotion\n",
    "    Output: List if Words Associated with the emotion\"\"\"\n",
    "    return [word for word in word_list if senti.get(word,dict()).get(emotion,False)]"
   ]
  },
  {
   "cell_type": "code",
   "execution_count": 62,
   "metadata": {},
   "outputs": [],
   "source": [
    "def emo_count(word_in):\n",
    "    \"\"\"This function returns a dictionary with emotions as keys along with associated words that relate to the emotion\n",
    "    Input: List of words\n",
    "    Output: Dictionary with values as list of words\"\"\"\n",
    "    return {word:in_emotion(word_in,word) for word in emo }"
   ]
  },
  {
   "cell_type": "code",
   "execution_count": 63,
   "metadata": {},
   "outputs": [
    {
     "data": {
      "text/plain": [
       "{'anger': [],\n",
       " 'anticipation': [],\n",
       " 'disgust': [],\n",
       " 'fear': [],\n",
       " 'joy': ['amazingly', 'sunshine'],\n",
       " 'negative': [],\n",
       " 'positive': ['amazingly', 'prefer', 'sunshine'],\n",
       " 'sadness': ['rainy'],\n",
       " 'surprise': ['amazingly'],\n",
       " 'trust': ['prefer']}"
      ]
     },
     "execution_count": 63,
     "metadata": {},
     "output_type": "execute_result"
    }
   ],
   "source": [
    "emo_count(word_extract(\"Amazingly, I prefer a #rainy day to #sunshine.\"))"
   ]
  },
  {
   "cell_type": "code",
   "execution_count": 64,
   "metadata": {},
   "outputs": [],
   "source": [
    "import collections\n",
    "\n",
    "def common_sort(l):\n",
    "    \"\"\"This function returns a sorted list of most common words present in the input list\n",
    "    Input: List\n",
    "    Output: Sorted List of Common Words\"\"\"\n",
    "    counts = collections.Counter(l)\n",
    "    new_list = sorted(set(l), key=lambda x: -counts[x])\n",
    "    return new_list"
   ]
  },
  {
   "cell_type": "markdown",
   "metadata": {},
   "source": [
    "## Tweet Statistics\n",
    "Once we are able to determine the sentiment of an individual string of text, we can analyze an entire set of tweets from the user's timeline."
   ]
  },
  {
   "cell_type": "code",
   "execution_count": 66,
   "metadata": {},
   "outputs": [],
   "source": [
    "from functools import reduce    "
   ]
  },
  {
   "cell_type": "code",
   "execution_count": 102,
   "metadata": {},
   "outputs": [],
   "source": [
    "def init_tweets(tweet):\n",
    "    \"\"\"This function takes in tweet text as input and call subsequent function which extracts and gives the emotions along with the words in the text associated with them\"\"\"\n",
    "    return emo_count(word_extract(tweet))"
   ]
  },
  {
   "cell_type": "code",
   "execution_count": 107,
   "metadata": {},
   "outputs": [],
   "source": [
    "def analyze_tweets(l):\n",
    "    \"\"\"The function analyzes tweets and returns required statistics of the input tweets.\n",
    "    Input: Takes dictionary of tweets as input\n",
    "    Output: Returns the dictionary consisting of emotions as keys and values as percentage, words and hashtags\"\"\"\n",
    "    total = reduce(lambda x,y: x+y,[len(word_extract(tweet['text'])) for tweet in l]) \n",
    "    #Calls init_tweets function to extract the words associated with each emotion\n",
    "    result = [init_tweets(tweet['text']) for tweet in l]\n",
    "    #d_emo will store all the words valid associated with emotion in the tweet\n",
    "    d_emo = {e:[] for e in emo}\n",
    "    #emo_len will store each emotion with the percentage of occurance as value\n",
    "    emo_len = result[1]\n",
    "    for e in emo:\n",
    "        for i in result:\n",
    "            if len(i[e]):\n",
    "                d_emo[e].append(i[e])\n",
    "        emo_len[e] = round((len(sum(d_emo[e],[]))/total)*100,2)\n",
    "    #Store key:value pair of d_emo in dict_emo\n",
    "    dict_emo = {key:sum(val,[]) for key,val in d_emo.items()}\n",
    "    top_wordsdict = {key:common_sort(dict_emo[key])[0:3] for key in dict_emo} \n",
    "    emo_out = emo_len\n",
    "    hash_dict = {key: [] for key in emo}\n",
    "    for i in l:\n",
    "        c = i['entities']['hashtags']\n",
    "        d1 = emo_count(word_extract(i['text']))\n",
    "        for e in c:\n",
    "                for k,v in d1.items():\n",
    "                    if v !=[]:\n",
    "                        hash_dict[k].append('#' + e['text'].lower())\n",
    "    \n",
    "    top_hash = {key:common_sort(hash_dict[key])[0:3] for key in hash_dict }\n",
    "    dd = collections.defaultdict(list)\n",
    "    for d in (emo_out, top_wordsdict,top_hash):\n",
    "        for key, value in d.items():\n",
    "            dd[key].append(value)\n",
    "    return dd"
   ]
  },
  {
   "cell_type": "code",
   "execution_count": 108,
   "metadata": {},
   "outputs": [],
   "source": [
    "def display_results(dict_val):\n",
    "    \"\"\"This function displays the resulting statistics in the required tabular format\"\"\"\n",
    "    print(\"{0:<14} {1:<11} {2:<35} {3:<}\".format(\"EMOTIONS\",\"% WORDS\",\"EXAMPLE WORDS\", \"HASHTAGS\"))\n",
    "    for sort_key in sorted(dict_val, key=dict_val.get,reverse = True):\n",
    "        for k,v in dict_val.items():\n",
    "            if sort_key==k:\n",
    "                print(\"{0:<14} {1:<11} {2:<35} {3:<}\".format(k,str(v[0]) +'%',', '.join(v[1]),  ', '.join(v[2]) ))"
   ]
  },
  {
   "cell_type": "code",
   "execution_count": 109,
   "metadata": {},
   "outputs": [
    {
     "name": "stdout",
     "output_type": "stream",
     "text": [
      "EMOTIONS       % WORDS     EXAMPLE WORDS                       HASHTAGS\n",
      "positive       6.16%       faculty, learn, happy               #accesstoinfoday, #indigenouspeoplesday, #mlis\n",
      "trust          3.08%       school, faculty, happy              #indigenouspeoplesday, #diversity\n",
      "anticipation   2.53%       happy, ready, top                   #indigenouspeoplesday, #info340, #informatics\n",
      "joy            1.76%       happy, fun, excited                 #accesstoinfoday, #indigenouspeoplesday\n",
      "surprise       0.99%       excited, wonderful, surprised       #nobrainer, #suzzallolibrary\n",
      "negative       0.88%       fall, boring, weird                 \n",
      "sadness        0.55%       fall, disaster, problem             \n",
      "fear           0.44%       surprise, disaster, problem         \n",
      "disgust        0.44%       disaster, finally, weird            \n",
      "anger          0.33%       involvement, disaster, rejection    #mlis\n"
     ]
    }
   ],
   "source": [
    "d = analyze_tweets(st)\n",
    "display_results(d)"
   ]
  },
  {
   "cell_type": "markdown",
   "metadata": {},
   "source": [
    "## Getting Live Data"
   ]
  },
  {
   "cell_type": "code",
   "execution_count": 110,
   "metadata": {},
   "outputs": [],
   "source": [
    "import requests\n",
    "def user_tweets(username):\n",
    "    query_params = {'screen_name' : username}\n",
    "    response = requests.get(\"https://api.twitter.com/1.1/statuses/user_timeline/\", params = query_params)\n",
    "    return (response.json())"
   ]
  },
  {
   "cell_type": "code",
   "execution_count": 111,
   "metadata": {},
   "outputs": [],
   "source": [
    "def main():\n",
    "    \"\"\"The main function takes user input and calls the functions to analyze the tweets of the user\n",
    "    Output: returns the resulting statistics of that user\"\"\"\n",
    "    x = input('Enter the username ')\n",
    "    if x == \"SAMPLE\":\n",
    "        res = analyze_tweets(st)\n",
    "    else:\n",
    "        y = user_tweets(x)\n",
    "        res = get(y)\n",
    "    return res"
   ]
  },
  {
   "cell_type": "code",
   "execution_count": 112,
   "metadata": {},
   "outputs": [
    {
     "name": "stdout",
     "output_type": "stream",
     "text": [
      "Enter the username SAMPLE\n",
      "EMOTIONS       % WORDS     EXAMPLE WORDS                       HASHTAGS\n",
      "positive       6.16%       faculty, learn, happy               #accesstoinfoday, #indigenouspeoplesday, #mlis\n",
      "trust          3.08%       school, faculty, happy              #indigenouspeoplesday, #diversity\n",
      "anticipation   2.53%       happy, ready, top                   #indigenouspeoplesday, #info340, #informatics\n",
      "joy            1.76%       happy, fun, excited                 #accesstoinfoday, #indigenouspeoplesday\n",
      "surprise       0.99%       excited, wonderful, surprised       #nobrainer, #suzzallolibrary\n",
      "negative       0.88%       fall, boring, weird                 \n",
      "sadness        0.55%       fall, disaster, problem             \n",
      "fear           0.44%       surprise, disaster, problem         \n",
      "disgust        0.44%       disaster, finally, weird            \n",
      "anger          0.33%       involvement, disaster, rejection    #mlis\n"
     ]
    }
   ],
   "source": [
    "d = main()\n",
    "display_results(d)"
   ]
  }
 ],
 "metadata": {
  "kernelspec": {
   "display_name": "Python 3",
   "language": "python",
   "name": "python3"
  },
  "language_info": {
   "codemirror_mode": {
    "name": "ipython",
    "version": 3
   },
   "file_extension": ".py",
   "mimetype": "text/x-python",
   "name": "python",
   "nbconvert_exporter": "python",
   "pygments_lexer": "ipython3",
   "version": "3.6.5"
  },
  "toc": {
   "colors": {
    "hover_highlight": "#DAA520",
    "running_highlight": "#FF0000",
    "selected_highlight": "#FFD700"
   },
   "moveMenuLeft": true,
   "nav_menu": {
    "height": "84px",
    "width": "252px"
   },
   "navigate_menu": true,
   "number_sections": true,
   "sideBar": true,
   "threshold": 4,
   "toc_cell": false,
   "toc_section_display": "block",
   "toc_window_display": false,
   "widenNotebook": false
  }
 },
 "nbformat": 4,
 "nbformat_minor": 2
}
